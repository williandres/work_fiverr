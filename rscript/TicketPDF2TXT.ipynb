{
 "cells": [
  {
   "cell_type": "markdown",
   "id": "343f3500",
   "metadata": {},
   "source": [
    "<font color=\"#6E6E6E\"><h2 align=\"left\">Importación de ficheros pdf y almacenamiento con formato texto</h2></font> \n",
    "\n",
    "\n",
    "#### Marcelino Martínez Sober"
   ]
  },
  {
   "cell_type": "markdown",
   "id": "95f0a171",
   "metadata": {},
   "source": [
    "\n",
    "# Carga de actas\n",
    "\n",
    "## Introducción\n",
    "\n"
   ]
  },
  {
   "cell_type": "code",
   "execution_count": 1,
   "id": "833563ac",
   "metadata": {},
   "outputs": [],
   "source": [
    "import pandas as pd\n",
    "#!pip3 install camelot-py[cv] tabula-py\n",
    "# Necesitamos tener instalado ghostscript\n",
    "# Abrimos terminal, elegimos environment y seguimos instrucciones https://camelot-py.readthedocs.io/en/master/user/install-deps.html\n",
    "#import camelot\n",
    "# importing required modules\n",
    "#!pip install PyPDF2\n",
    "import PyPDF2\n",
    "import os"
   ]
  },
  {
   "cell_type": "markdown",
   "id": "16b05a66",
   "metadata": {},
   "source": [
    "Leemos todos los ficheros con extensión pdf dentro de la carpeta `data` y los almacenamos con el mismo nombre y ruta con la extensión `txt` \n",
    "\n",
    "El procesado y la extracción de información de los ficheros de texto se realizará en R"
   ]
  },
  {
   "cell_type": "code",
   "execution_count": 2,
   "id": "93912afc",
   "metadata": {},
   "outputs": [
    {
     "name": "stdout",
     "output_type": "stream",
     "text": [
      "data/20240123 Mercadona 44,13 €.pdf\n",
      "data/20240123 Mercadona 44,13 €.txt\n",
      "1021\n",
      "data/20240109 Mercadona 7,35 €.pdf\n",
      "data/20240109 Mercadona 7,35 €.txt\n",
      "571\n",
      "data/20231218 Mercadona 60,47 €.pdf\n",
      "data/20231218 Mercadona 60,47 €.txt\n",
      "1066\n",
      "data/20240111 Mercadona 41,20 €.pdf\n",
      "data/20240111 Mercadona 41,20 €.txt\n",
      "704\n",
      "data/20240102 Mercadona 70,04 €.pdf\n",
      "data/20240102 Mercadona 70,04 €.txt\n",
      "1170\n",
      "data/20231224 Mercadona 37,49 €.pdf\n",
      "data/20231224 Mercadona 37,49 €.txt\n",
      "854\n",
      "data/20231226 Mercadona 25,83 €.pdf\n",
      "data/20231226 Mercadona 25,83 €.txt\n",
      "759\n",
      "data/20240115 Mercadona 117,41 €.pdf\n",
      "data/20240115 Mercadona 117,41 €.txt\n",
      "1745\n",
      "data/20240108 Mercadona 83,73 €.pdf\n",
      "data/20240108 Mercadona 83,73 €.txt\n",
      "1186\n",
      "data/20240131 Mercadona 16,82 €.pdf\n",
      "data/20240131 Mercadona 16,82 €.txt\n",
      "617\n",
      "data/20231230 Mercadona 66,30 €.pdf\n",
      "data/20231230 Mercadona 66,30 €.txt\n",
      "948\n",
      "data/20240127 Mercadona 108,33 €.pdf\n",
      "data/20240127 Mercadona 108,33 €.txt\n",
      "1617\n"
     ]
    }
   ],
   "source": [
    "# El punto de partida de búsqueda es la carpeta data\n",
    "\n",
    "for dirname, _, filenames in os.walk('data'): # Obtenemos todos los ficheros desde la ruta indicada incluidos todos los subdirectorios internos\n",
    "    for filename in filenames:\n",
    "        #print('Ruta:', dirname, '  Fichero:', filename)\n",
    "        if filename.endswith('pdf'):\n",
    "            print(os.path.join(dirname, filename))\n",
    "            fichero = os.path.join(dirname, filename)\n",
    "            pdfFileObj = open(fichero,'rb')#The pdfReader variable is a readable object that will be parsed.pd\n",
    "            pdfReader = PyPDF2.PdfReader(pdfFileObj)#Discerning the number of pages will allow us to parse through all the pages.\n",
    "            num_pages = len(pdfReader.pages)\n",
    "            #print('Num Páginas:', num_pages )\n",
    "            count = 0\n",
    "            text = \"\" #The while loop will read each page.\n",
    "            \n",
    "            while count < num_pages:\n",
    "                pageObj = pdfReader.pages[count]\n",
    "                count +=1\n",
    "                text += pageObj.extract_text()#This if statement exists to check if the above library returned words. It's done because PyPDF2 cannot read scanned files.\n",
    "            #display(text.split('\\n'))\n",
    "            # Guardo en fichero de texto\n",
    "            fileText = fichero.replace('pdf','txt')\n",
    "            print(fileText)\n",
    "            with open(fileText,'wt') as f:\n",
    "                N = f.write(text)\n",
    "                print(N) # OJO hay caracteres no imprimibles como un salto de línea.\n"
   ]
  }
 ],
 "metadata": {
  "jupytext": {
   "cell_metadata_filter": "-all",
   "encoding": "# -*- coding: utf-8 -*-",
   "formats": "md:myst",
   "main_language": "python"
  },
  "kernelspec": {
   "display_name": "Python 3 (ipykernel)",
   "language": "python",
   "name": "python3"
  },
  "language_info": {
   "codemirror_mode": {
    "name": "ipython",
    "version": 3
   },
   "file_extension": ".py",
   "mimetype": "text/x-python",
   "name": "python",
   "nbconvert_exporter": "python",
   "pygments_lexer": "ipython3",
   "version": "3.11.5"
  },
  "toc-showtags": true,
  "vscode": {
   "interpreter": {
    "hash": "ebb8a04317dc67ff1ba6e1e32c50870fed8e0ad2e5778d091acaf18676f4d800"
   }
  }
 },
 "nbformat": 4,
 "nbformat_minor": 5
}
